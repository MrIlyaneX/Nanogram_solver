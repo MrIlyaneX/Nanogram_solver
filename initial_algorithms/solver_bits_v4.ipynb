{
 "cells": [
  {
   "cell_type": "code",
   "outputs": [],
   "source": [
    "import numpy as np\n",
    "from typing import List, Tuple\n",
    "from tqdm import tqdm\n",
    "from copy import deepcopy\n",
    "from functools import cache\n",
    "import random\n",
    "\n",
    "\n",
    "# Ideas\n",
    "# TODO: Validator for validating nonograms\n",
    "\n",
    "# Hyperparameters:\n",
    "# Gen:\n",
    "# mutation_rate -> dynamic change?\n",
    "\n",
    "# Solver:\n",
    "# len_coefficient\n",
    "# sum_coefficient\n",
    "# population_size\n",
    "# mutation_rate -> dynamic change\n",
    "#\n",
    "# generations\n",
    "# improvement\n",
    "# restarts\n",
    "\n",
    "@cache\n",
    "def get_bit(num: int, order: int) -> int:\n",
    "    \"\"\"\n",
    "    Returns 'bit' of given number at 'order' position\n",
    "\n",
    "    :param num:\n",
    "    :param order:\n",
    "    :return:\n",
    "    \"\"\"\n",
    "    return (num >> order) & 1\n",
    "\n",
    "\n",
    "@cache\n",
    "def get_row(num: int, row_num: int, col: int, row: int) -> int:\n",
    "    \"\"\"\n",
    "    Returns row of a given number in hte bit representation\n",
    "\n",
    "    :param num:\n",
    "    :param row_num:\n",
    "    :param col:\n",
    "    :param row:\n",
    "    :return:\n",
    "    \"\"\"\n",
    "\n",
    "    shift = col * (row - 1 - row_num)\n",
    "    mask = (1 << col) - 1\n",
    "    ans = ((num >> shift) & mask) | (1 << col)\n",
    "    # print(bin(num), bin(mask), bin(ans))\n",
    "\n",
    "    # 0b1 1011 1001 >> 4 | 1111  4 == col * (row - 1 - row_n)  4 == 4 * (1)\n",
    "    # 0b1 1011 1011 >> 0 | 1111  0 == col * (row - 1 - row_n)  0 == 4 * (0)\n",
    "    return ans\n",
    "\n",
    "\n",
    "@cache\n",
    "def get_col(num: int, col_num: int, col: int, row: int) -> int:\n",
    "    \"\"\"\n",
    "    Returns column of a given number in the bit representation\n",
    "\n",
    "    :param num:\n",
    "    :param col_num:\n",
    "    :param col:\n",
    "    :param row:\n",
    "    :return:\n",
    "    \"\"\"\n",
    "\n",
    "    collected_col = 1\n",
    "    shift = (col - col_num - 1)\n",
    "    mask = (1 << shift)\n",
    "\n",
    "    for i in range(row):\n",
    "        r = get_row(num, i, col, row)\n",
    "        collected_col = (collected_col << 1) | ((r & mask) >> shift)\n",
    "\n",
    "    return collected_col\n",
    "\n",
    "\n",
    "@cache\n",
    "def update_row(cells: int, row_num: int, new_row: int, col: int, n: int) -> int:\n",
    "    \"\"\"\n",
    "    Returns a bit string with row at 'row_num' replaced to 'new_row'\n",
    "\n",
    "    :param cells:\n",
    "    :param row_num:\n",
    "    :param new_row:\n",
    "    :param col:\n",
    "    :return:\n",
    "    \"\"\"\n",
    "\n",
    "    # print(bin(cells))\n",
    "    cells_bits = list(bin(cells)[2:].zfill(n))\n",
    "    new_row_bits = list(bin(new_row)[2:].zfill(col))\n",
    "\n",
    "    new_row_bits.remove(new_row_bits[0])\n",
    "    start_index = row_num * col + 1\n",
    "\n",
    "    # print(cells_bits, new_row_bits)\n",
    "\n",
    "    for i in range(col):\n",
    "        cells_bits[start_index + i] = new_row_bits[i]\n",
    "\n",
    "    # print(cells_bits)\n",
    "\n",
    "    updated_cells_str = ''.join(cells_bits)\n",
    "\n",
    "    ans = int(updated_cells_str, 2)\n",
    "\n",
    "    # print(bin(ans), end=\"\\n\\n\")\n",
    "\n",
    "    return ans\n",
    "\n",
    "\n",
    "@cache\n",
    "def get_bits(cells, split_point: int):\n",
    "    \"\"\"\n",
    "    Return bit string produced by splitting 'cells' at 'split_point'\n",
    "\n",
    "    If point > 0:\n",
    "        returns bits from cells in interval [0, point],\n",
    "        first significant bit included\n",
    "\n",
    "    if point < 0:\n",
    "        return bits from cells in interval (point, end_of_cells]\n",
    "        first significant bit included\n",
    "\n",
    "    :param cells: the bit representation of gen.\n",
    "    :param split_point: crossover point. Positive or negative value.\n",
    "    :return: bit string of len point from cells.\n",
    "    \"\"\"\n",
    "\n",
    "    if split_point > 0:\n",
    "        return (cells >> split_point) << split_point\n",
    "    return ((1 << abs(split_point)) - 1) & cells\n",
    "\n",
    "\n",
    "class NanogramGen:\n",
    "    def __init__(self,\n",
    "                 rows: int, cols: int,\n",
    "                 row_clues: List[List[int]], col_clues: List[List[int]],\n",
    "                 mutation_rate: float = 0.5):\n",
    "        \"\"\"\n",
    "\n",
    "        :param rows:\n",
    "        :param cols:\n",
    "        :param row_clues:\n",
    "        :param col_clues:\n",
    "        :param mutation_rate:\n",
    "        \"\"\"\n",
    "\n",
    "        self.rows = rows  #\n",
    "        self.cols = cols  #\n",
    "        self.row_clues = row_clues  #\n",
    "        self.col_clues = col_clues  #\n",
    "        self.mutation_rate = mutation_rate  #\n",
    "        self.n = self.rows * self.cols  # Size of grid in 'bits'\n",
    "        self.cells = 1 << self.n  # TODO\n",
    "\n",
    "    def __hash__(self):\n",
    "        return hash(self.cells)\n",
    "\n",
    "    def __generate_row(self, row_clues: List[int]) -> int:\n",
    "        row = [0 for _ in range(self.cols)]\n",
    "\n",
    "        i_position = []\n",
    "        cursor = 0\n",
    "        common_length = sum(row_clues)\n",
    "        amount = len(row_clues)  # amount of strings\n",
    "        n = amount\n",
    "\n",
    "        for j in range(amount):\n",
    "            index = np.random.randint(cursor, (self.cols - common_length - n + 2))\n",
    "            i_position.append(index)\n",
    "            for k in range(row_clues[j]):\n",
    "                row[k + index] = 1\n",
    "            common_length -= row_clues[j]\n",
    "            cursor = (index + row_clues[j] + 1)\n",
    "            n -= 1\n",
    "\n",
    "        row_binary = '1' + ''.join(map(str, row))\n",
    "        ans = int(row_binary, 2)\n",
    "\n",
    "        # print(row, bin(ans))\n",
    "\n",
    "        return ans\n",
    "\n",
    "    def initialize(self):\n",
    "        \"\"\"\n",
    "\n",
    "        :return: Returns Itself after being initialized\n",
    "        \"\"\"\n",
    "        # print(self.cells)\n",
    "        rows = []\n",
    "        for row in range(self.rows):\n",
    "            new_row = self.__generate_row(self.row_clues[row])\n",
    "            rows.append(new_row)\n",
    "            self.cells = update_row(cells=self.cells, col=self.cols, row_num=row, n=self.n, new_row=new_row)\n",
    "\n",
    "        return self\n",
    "\n",
    "    def mutate(self) -> None:\n",
    "        \"\"\"\n",
    "\n",
    "        :return:\n",
    "        \"\"\"\n",
    "\n",
    "        for row in range(self.rows):\n",
    "            if np.random.rand() > self.mutation_rate:\n",
    "                continue\n",
    "\n",
    "            if str(get_row(self.cells, row, self.cols, self.rows)).count(\"1\") == len(self.row_clues) - 1:\n",
    "                continue\n",
    "\n",
    "            new_row = self.__generate_row(self.row_clues[row])\n",
    "            self.cells = update_row(cells=self.cells, col=self.cols, row_num=row, n=self.n, new_row=new_row)\n",
    "\n",
    "    def show(self) -> None:\n",
    "        \"\"\"\n",
    "\n",
    "        :return:\n",
    "        \"\"\"\n",
    "        bits = str(bin(self.cells)[3:])\n",
    "        print(bits)\n",
    "\n",
    "        for i in range(self.rows):\n",
    "            print()\n",
    "            sub_str = bits[i * self.rows: i * self.rows + self.cols]\n",
    "            for symbol in sub_str:\n",
    "                if symbol == '1':\n",
    "                    print(\"x\", end=\" \")\n",
    "                else:\n",
    "                    print(\" \", end=\" \")\n",
    "        print()\n",
    "\n",
    "\n",
    "class NonogramSolverGA:\n",
    "    def __init__(\n",
    "            self, rows: int, columns: int,\n",
    "            row_clues: List[List[int]], col_clues: List[List[int]],\n",
    "            population_size=100, mutation_rate=0.2, gen_mutation=0.2,\n",
    "            len_coefficient=1, sum_coefficient=1\n",
    "    ):\n",
    "        \"\"\"\n",
    "\n",
    "        :param rows:\n",
    "        :param columns:\n",
    "        :param row_clues:\n",
    "        :param col_clues:\n",
    "        :param population_size:\n",
    "        :param mutation_rate:\n",
    "        \"\"\"\n",
    "        self.rows = rows\n",
    "        self.columns = columns\n",
    "        self.row_clues = row_clues\n",
    "        self.col_clues = col_clues\n",
    "        self.n = self.rows * self.columns\n",
    "\n",
    "        # Hyperparameters\n",
    "        self.len_coefficient = len_coefficient  # Coefficient for penalizing wrong number of segment\n",
    "        self.sum_coefficient = sum_coefficient  # Coefficient for penalizing wrong number of points in the line\n",
    "\n",
    "        self.mutation_rate = mutation_rate\n",
    "        self.population_size = population_size\n",
    "\n",
    "        # Check if constraints conflict with rows / cols\n",
    "        self.__validator()\n",
    "\n",
    "        # For fast creation of new NonogramGens\n",
    "        self.__params = {\n",
    "            \"rows\": self.rows,\n",
    "            \"cols\": self.columns,\n",
    "            \"row_clues\": self.row_clues,\n",
    "            \"col_clues\": self.col_clues,\n",
    "            \"mutation_rate\": gen_mutation\n",
    "        }\n",
    "        self.fitness_cache = {}\n",
    "\n",
    "    def __validator(self):\n",
    "        error = False\n",
    "        if self.rows == 0:\n",
    "            error = True\n",
    "        if error:\n",
    "            raise Exception(\"Constraints conflict with the size of rows / columns\")\n",
    "\n",
    "    def fitness(self, individual) -> int:  # lower -> better\n",
    "        \"\"\"\n",
    "        :param individual:\n",
    "        :return:\n",
    "        \"\"\"\n",
    "\n",
    "        if individual.cells in self.fitness_cache:\n",
    "            return self.fitness_cache[individual]\n",
    "\n",
    "        col_errors = np.sum([\n",
    "            self.__evaluate_line(\n",
    "                get_col(num=individual.cells, col=self.columns, row=self.rows, col_num=i),\n",
    "                self.col_clues[i])\n",
    "            for i in range(0, self.columns)\n",
    "        ])\n",
    "\n",
    "        self.fitness_cache[individual] = col_errors\n",
    "\n",
    "        return col_errors\n",
    "\n",
    "    def __evaluate_line(self, line: int, clue: List[int]) -> int:\n",
    "        \"\"\"\n",
    "        Evaluates given lines according to the given clue.\n",
    "\n",
    "        :param line: binary representation of the line\n",
    "        :param clue: list of integers representing clue for the line\n",
    "        :return: possible penalty in interval [0, +inf)\n",
    "        \"\"\"\n",
    "\n",
    "        string_parts = [non_empty for non_empty in bin(line)[3:].split(sep=\"0\") if non_empty]\n",
    "\n",
    "        parts = [len(i) for i in string_parts]\n",
    "\n",
    "        if parts == clue:\n",
    "            return 0\n",
    "\n",
    "        a = abs(len(parts) - len(clue))\n",
    "        b = abs(sum(parts) - sum(clue))\n",
    "\n",
    "        return self.len_coefficient * a + self.sum_coefficient * b\n",
    "\n",
    "    def __crossover(self, parent1: NanogramGen, parent2: NanogramGen) -> NanogramGen:\n",
    "        \"\"\"\n",
    "        Perform crossover operation, crossing full rows\n",
    "\n",
    "        :param parent1:\n",
    "        :param parent2:\n",
    "        :return:\n",
    "        \"\"\"\n",
    "        # Apply crossover operation to produce offspring\n",
    "\n",
    "        # Get a row number from witch we cross gen.\n",
    "        # IMPORTANT: If the split in the middle of row, we get wrong (according to clues) child\n",
    "        crossover_row = np.random.randint(1, self.rows)\n",
    "        crossover_point = crossover_row * self.columns\n",
    "\n",
    "        part1 = get_bits(parent1.cells, crossover_point)\n",
    "        part2 = get_bits(parent2.cells, -crossover_point)\n",
    "\n",
    "        child = NanogramGen(**self.__params)\n",
    "        child.cells = part1 + part2\n",
    "\n",
    "        return child\n",
    "\n",
    "    def evolve(self, generations: int = 100,\n",
    "               improvement: int = 50,\n",
    "               return_fitness_change: bool = False,\n",
    "               restarts: int = 5,\n",
    "               stop_number=30,\n",
    "               elite_coefficient=8\n",
    "               ):\n",
    "        \"\"\"\n",
    "\n",
    "        :param generations: maximal number of generations\n",
    "        :param improvement: number of iterations with the same fitness. Influence mutation increase\n",
    "        :param return_fitness_change: return an array of the best fitness for each generation\n",
    "        :param restarts: Number of attempts to restart algorithm after reaching 'stop_number'\n",
    "        :param stop_number: number of iterations with the same fitness. After reaching this value, stopping algorithm\n",
    "        :param elite_coefficient: corresponds to elitism ratio\n",
    "        :return: Solution of class NanogramGen\n",
    "        \"\"\"\n",
    "\n",
    "        self.fitness_cache = {}\n",
    "        rate_mut, gen_mut = self.mutation_rate, self.__params[\"mutation_rate\"]\n",
    "\n",
    "        def __run_attempt():\n",
    "\n",
    "            population = [NanogramGen(**self.__params).initialize() for _ in range(self.population_size * 2)]\n",
    "\n",
    "            # Evaluate fitness for each individual\n",
    "            fitness_scores = [(individual, self.fitness(individual=individual)) for individual in population]\n",
    "            fitness_scores.sort(key=lambda x: x[1])\n",
    "\n",
    "            fitness_scores = fitness_scores[:self.population_size]\n",
    "\n",
    "            not_improving = 0\n",
    "            best_score = fitness_scores[0][1]\n",
    "\n",
    "            fitness_change = []\n",
    "\n",
    "            for _ in range(generations):\n",
    "                # Select top individuals for reproduction (elitism)\n",
    "                elite = [deepcopy(individual) for individual, _ in\n",
    "                         fitness_scores[:self.population_size // elite_coefficient]]\n",
    "\n",
    "                offsprings = []\n",
    "                while len(offsprings) < self.population_size - len(elite):\n",
    "                    parent1, parent2 = np.random.choice(population, size=2)\n",
    "                    child = self.__crossover(parent1, parent2)\n",
    "                    if np.random.rand() < self.mutation_rate:\n",
    "                        child.mutate()\n",
    "                    offsprings.append(child)\n",
    "\n",
    "                population = elite + offsprings\n",
    "\n",
    "                # Evaluate fitness for each individual\n",
    "                fitness_scores = [(individual, self.fitness(individual=individual)) for individual in population]\n",
    "                fitness_scores.sort(key=lambda x: x[1])\n",
    "\n",
    "                fitness_change.append(fitness_scores[0][1])\n",
    "\n",
    "                # Stooping if we found solution\n",
    "                if fitness_scores[0][1] == 0:\n",
    "                    break\n",
    "\n",
    "                # Early stopping criteria\n",
    "\n",
    "                if best_score == fitness_scores[0][1]:\n",
    "                    not_improving += 1\n",
    "                else:\n",
    "                    not_improving = 0\n",
    "                    self.mutation_rate, self.__params[\"mutation_rate\"] = rate_mut, gen_mut\n",
    "\n",
    "                best_score = min(best_score, fitness_scores[0][1])\n",
    "\n",
    "                if not_improving == improvement * 2:\n",
    "                    self.__params[\"mutation_rate\"] += 0.1\n",
    "                    self.mutation_rate += 0.1\n",
    "\n",
    "                if not_improving == improvement * 3:\n",
    "                    self.__params[\"mutation_rate\"] += 0.2\n",
    "                    self.mutation_rate += 0.2\n",
    "\n",
    "                if not_improving == improvement * 5:\n",
    "                    self.__params[\"mutation_rate\"] = 1\n",
    "                    self.mutation_rate = 1\n",
    "\n",
    "                if not_improving == stop_number:\n",
    "                    print(f\"The fittness does not improve for {not_improving} iterations.\")\n",
    "                    break\n",
    "\n",
    "            return [fitness_scores[0][0], fitness_change]\n",
    "\n",
    "        best_sol = (None, None)\n",
    "\n",
    "        for r_i in tqdm(range(restarts)):\n",
    "            self.mutation_rate, self.__params[\"mutation_rate\"] = rate_mut, gen_mut\n",
    "            solution, fitness_change = __run_attempt()\n",
    "\n",
    "            print(f\"Iteration {r_i + 1}/{restarts}. Restarting algo. Best solution: {fitness_change[-1]}\")\n",
    "            if best_sol == (None, None) or best_sol[1][-1] > fitness_change[-1]:\n",
    "                best_sol = (solution, fitness_change)\n",
    "\n",
    "            if fitness_change[-1] == 0:\n",
    "                break\n",
    "\n",
    "        # create an object with all requested outputs\n",
    "        to_return = [best_sol[0]]\n",
    "        if return_fitness_change:\n",
    "            to_return.append(best_sol[1])\n",
    "\n",
    "        self.fitness_cache = {}\n",
    "\n",
    "        return to_return\n",
    "\n",
    "\n",
    "def plot_fitness(fitness: List[float], plot_size: Tuple[float, float] = (16, 9)) -> None:\n",
    "    import matplotlib.pyplot as plt\n",
    "\n",
    "    plt.figure(figsize=plot_size)\n",
    "    plt.plot(fitness, label=\"Fitness change\")\n",
    "    plt.xlabel(\"Generation number\")\n",
    "    plt.ylabel(\"Fitness score\")\n",
    "    plt.title(\"Fitness change of best Gen over generations\")\n",
    "    plt.legend(loc=\"best\")\n",
    "    plt.show()"
   ],
   "metadata": {
    "collapsed": false,
    "ExecuteTime": {
     "end_time": "2024-04-08T14:55:19.872073Z",
     "start_time": "2024-04-08T14:55:19.791984Z"
    }
   },
   "id": "9c4573f210e66a7b",
   "execution_count": 1
  },
  {
   "cell_type": "code",
   "outputs": [],
   "source": [
    "params_solver = {\n",
    "    \"population_size\": 100,\n",
    "    \"mutation_rate\": 0.2,\n",
    "    \"gen_mutation\": 0.1,\n",
    "    \"sum_coefficient\" : 1,\n",
    "    \"len_coefficient\": 1\n",
    "}\n",
    "\n",
    "params_evolve = {\n",
    "    \"generations\": 400,\n",
    "    \"improvement\": 4,\n",
    "    \"restarts\": 10,\n",
    "    \"return_fitness_change\": True,\n",
    "    \"stop_number\" : 50,\n",
    "    \"elite_coefficient\": 10\n",
    "}"
   ],
   "metadata": {
    "collapsed": false,
    "ExecuteTime": {
     "end_time": "2024-04-08T14:55:19.908800Z",
     "start_time": "2024-04-08T14:55:19.880468Z"
    }
   },
   "id": "e67ffc6a65fa6f1d",
   "execution_count": 2
  },
  {
   "cell_type": "code",
   "outputs": [
    {
     "name": "stderr",
     "output_type": "stream",
     "text": [
      "  0%|          | 0/10 [00:00<?, ?it/s]"
     ]
    },
    {
     "name": "stdout",
     "output_type": "stream",
     "text": [
      "Iteration 1/10. Restarting algo. Best solution: 0\n",
      "Solution: 1394363494684507292187537797464\n",
      "Fitness: 0\n",
      "0001100110010110111001110011000111001001001000110110100111111111111111111110011101010111000101011000\n",
      "\n",
      "      x x     x x   \n",
      "  x   x x   x x x   \n",
      "  x x x     x x     \n",
      "  x x x     x     x \n",
      "    x       x x   x \n",
      "x   x     x x x x x \n",
      "x x x x x x x x x x \n",
      "x x x x x     x x x \n",
      "  x   x   x x x     \n",
      "  x   x   x x       \n"
     ]
    },
    {
     "name": "stderr",
     "output_type": "stream",
     "text": [
      "\n"
     ]
    },
    {
     "data": {
      "text/plain": "<Figure size 1600x900 with 1 Axes>",
      "image/png": "[encoded data removed]"
     },
     "metadata": {},
     "output_type": "display_data"
    }
   ],
   "source": [
    "# test 1\n",
    "col_clues = [[3], [3, 4], [6], [4, 4], [2, 2], [2, 2], [6, 2], [3, 5], [2, 3], [5]]\n",
    "row_clues = [[2, 2], [1, 2, 3], [3, 2], [3, 1, 1], [1, 2, 1], [1, 1, 5], [10], [5, 3], [1, 1, 3], [1, 1, 2]]\n",
    "rows = len(row_clues)\n",
    "columns = len(col_clues)\n",
    "\n",
    "solver = NonogramSolverGA(rows=rows, columns=columns, row_clues=row_clues, col_clues=col_clues, **params_solver)\n",
    "\n",
    "solution, fitness_change = solver.evolve(**params_evolve)\n",
    "\n",
    "print(f\"Solution: {solution.cells}\\nFitness: {fitness_change[-1]}\")\n",
    "solution.show()\n",
    "plot_fitness(fitness_change)"
   ],
   "metadata": {
    "collapsed": false,
    "ExecuteTime": {
     "end_time": "2024-04-08T14:55:20.580204Z",
     "start_time": "2024-04-08T14:55:19.902407Z"
    }
   },
   "id": "eaa6b589b13864f9",
   "execution_count": 3
  },
  {
   "cell_type": "code",
   "outputs": [
    {
     "name": "stderr",
     "output_type": "stream",
     "text": [
      " 10%|█         | 1/10 [00:01<00:13,  1.49s/it]"
     ]
    },
    {
     "name": "stdout",
     "output_type": "stream",
     "text": [
      "The fittness does not improve for 50 iterations.\n",
      "Iteration 1/10. Restarting algo. Best solution: 13\n"
     ]
    },
    {
     "name": "stderr",
     "output_type": "stream",
     "text": [
      " 20%|██        | 2/10 [00:02<00:11,  1.38s/it]"
     ]
    },
    {
     "name": "stdout",
     "output_type": "stream",
     "text": [
      "The fittness does not improve for 50 iterations.\n",
      "Iteration 2/10. Restarting algo. Best solution: 14\n"
     ]
    },
    {
     "name": "stderr",
     "output_type": "stream",
     "text": [
      " 30%|███       | 3/10 [00:04<00:09,  1.35s/it]"
     ]
    },
    {
     "name": "stdout",
     "output_type": "stream",
     "text": [
      "The fittness does not improve for 50 iterations.\n",
      "Iteration 3/10. Restarting algo. Best solution: 9\n",
      "The fittness does not improve for 50 iterations.\n",
      "Iteration 4/10. Restarting algo. Best solution: 13\n"
     ]
    },
    {
     "name": "stderr",
     "output_type": "stream",
     "text": [
      " 50%|█████     | 5/10 [00:06<00:06,  1.33s/it]"
     ]
    },
    {
     "name": "stdout",
     "output_type": "stream",
     "text": [
      "The fittness does not improve for 50 iterations.\n",
      "Iteration 5/10. Restarting algo. Best solution: 14\n"
     ]
    },
    {
     "name": "stderr",
     "output_type": "stream",
     "text": [
      " 60%|██████    | 6/10 [00:08<00:05,  1.37s/it]"
     ]
    },
    {
     "name": "stdout",
     "output_type": "stream",
     "text": [
      "The fittness does not improve for 50 iterations.\n",
      "Iteration 6/10. Restarting algo. Best solution: 14\n"
     ]
    },
    {
     "name": "stderr",
     "output_type": "stream",
     "text": [
      " 70%|███████   | 7/10 [00:09<00:04,  1.41s/it]"
     ]
    },
    {
     "name": "stdout",
     "output_type": "stream",
     "text": [
      "The fittness does not improve for 50 iterations.\n",
      "Iteration 7/10. Restarting algo. Best solution: 15\n"
     ]
    },
    {
     "name": "stderr",
     "output_type": "stream",
     "text": [
      " 80%|████████  | 8/10 [00:11<00:02,  1.42s/it]"
     ]
    },
    {
     "name": "stdout",
     "output_type": "stream",
     "text": [
      "The fittness does not improve for 50 iterations.\n",
      "Iteration 8/10. Restarting algo. Best solution: 15\n",
      "The fittness does not improve for 50 iterations.\n",
      "Iteration 9/10. Restarting algo. Best solution: 14\n"
     ]
    },
    {
     "name": "stderr",
     "output_type": "stream",
     "text": [
      "100%|██████████| 10/10 [00:13<00:00,  1.35s/it]"
     ]
    },
    {
     "name": "stdout",
     "output_type": "stream",
     "text": [
      "The fittness does not improve for 50 iterations.\n",
      "Iteration 10/10. Restarting algo. Best solution: 20\n",
      "Solution: 59828905335795074984901429983551292989677132452884007723354545061887\n",
      "Fitness: 9\n",
      "000111000000111000000001100110010001111001000011011111100110010111111100010100111111110010110111111111011110011111101011011000111110011111001101001110111101110011100111111111111100111111111111001111111111100011111111111111111\n",
      "\n",
      "      x x x             x x x \n",
      "                x x     x x   \n",
      "  x       x x x x     x       \n",
      "  x x   x x x x x x     x x   \n",
      "  x   x x x x x x x       x   \n",
      "x     x x x x x x x x     x   \n",
      "x x   x x x x x x x x x   x x \n",
      "x x     x x x x x x   x   x x \n",
      "  x x       x x x x x     x x \n",
      "x x x     x x   x     x x x   \n",
      "x x x x   x x x     x x x     \n",
      "x x x x x x x x x x x x x     \n",
      "x x x x x x x x x x x x     x \n",
      "x x x x x x x x x x       x x \n",
      "x x x x x x x x x x x x x x x \n"
     ]
    },
    {
     "name": "stderr",
     "output_type": "stream",
     "text": [
      "\n"
     ]
    },
    {
     "data": {
      "text/plain": "<Figure size 1600x900 with 1 Axes>",
      "image/png": "[encoded data removed]"
     },
     "metadata": {},
     "output_type": "display_data"
    }
   ],
   "source": [
    "# Test 2\n",
    "\n",
    "col_clues = [[9], [12], [3, 6], [2, 2, 5], [1, 5, 4],\n",
    "             [1, 8, 4], [13], [7, 5], [7, 5], [1, 7, 4],\n",
    "             [1, 3, 2, 1], [2, 2, 3, 1], [3, 3, 1], [8, 2], [4, 3]]\n",
    "row_clues = [[3, 3], [2, 2], [1, 4, 1], [2, 6, 2], [1, 7, 1],\n",
    "             [1, 8, 1], [2, 9, 2], [2, 6, 1, 2], [2, 5, 2], [3, 2, 1, 3],\n",
    "             [4, 3, 3], [13], [12, 1], [10, 2], [15]]\n",
    "\n",
    "rows = len(row_clues)\n",
    "columns = len(col_clues)\n",
    "\n",
    "solver = NonogramSolverGA(rows=rows, columns=columns, row_clues=row_clues, col_clues=col_clues, **params_solver)\n",
    "\n",
    "solution, fitness_change = solver.evolve(**params_evolve)\n",
    "\n",
    "print(f\"Solution: {solution.cells}\\nFitness: {fitness_change[-1]}\")\n",
    "solution.show()\n",
    "plot_fitness(fitness_change)"
   ],
   "metadata": {
    "collapsed": false,
    "ExecuteTime": {
     "end_time": "2024-04-08T14:55:34.191929Z",
     "start_time": "2024-04-08T14:55:20.576707Z"
    }
   },
   "id": "90ca15757a7c196f",
   "execution_count": 4
  },
  {
   "cell_type": "code",
   "outputs": [
    {
     "name": "stderr",
     "output_type": "stream",
     "text": [
      " 10%|█         | 1/10 [00:01<00:15,  1.70s/it]"
     ]
    },
    {
     "name": "stdout",
     "output_type": "stream",
     "text": [
      "The fittness does not improve for 50 iterations.\n",
      "Iteration 1/10. Restarting algo. Best solution: 15\n"
     ]
    },
    {
     "name": "stderr",
     "output_type": "stream",
     "text": [
      " 20%|██        | 2/10 [00:03<00:13,  1.66s/it]"
     ]
    },
    {
     "name": "stdout",
     "output_type": "stream",
     "text": [
      "The fittness does not improve for 50 iterations.\n",
      "Iteration 2/10. Restarting algo. Best solution: 13\n"
     ]
    },
    {
     "name": "stderr",
     "output_type": "stream",
     "text": [
      " 30%|███       | 3/10 [00:05<00:12,  1.78s/it]"
     ]
    },
    {
     "name": "stdout",
     "output_type": "stream",
     "text": [
      "The fittness does not improve for 50 iterations.\n",
      "Iteration 3/10. Restarting algo. Best solution: 11\n"
     ]
    },
    {
     "name": "stderr",
     "output_type": "stream",
     "text": [
      " 40%|████      | 4/10 [00:07<00:10,  1.78s/it]"
     ]
    },
    {
     "name": "stdout",
     "output_type": "stream",
     "text": [
      "The fittness does not improve for 50 iterations.\n",
      "Iteration 4/10. Restarting algo. Best solution: 12\n"
     ]
    },
    {
     "name": "stderr",
     "output_type": "stream",
     "text": [
      " 60%|██████    | 6/10 [00:10<00:06,  1.63s/it]"
     ]
    },
    {
     "name": "stdout",
     "output_type": "stream",
     "text": [
      "The fittness does not improve for 50 iterations.\n",
      "Iteration 5/10. Restarting algo. Best solution: 9\n",
      "The fittness does not improve for 50 iterations.\n",
      "Iteration 6/10. Restarting algo. Best solution: 14\n"
     ]
    },
    {
     "name": "stderr",
     "output_type": "stream",
     "text": [
      " 80%|████████  | 8/10 [00:13<00:03,  1.77s/it]"
     ]
    },
    {
     "name": "stdout",
     "output_type": "stream",
     "text": [
      "The fittness does not improve for 50 iterations.\n",
      "Iteration 7/10. Restarting algo. Best solution: 16\n",
      "The fittness does not improve for 50 iterations.\n",
      "Iteration 8/10. Restarting algo. Best solution: 8\n"
     ]
    },
    {
     "name": "stderr",
     "output_type": "stream",
     "text": [
      "100%|██████████| 10/10 [00:17<00:00,  1.80s/it]"
     ]
    },
    {
     "name": "stdout",
     "output_type": "stream",
     "text": [
      "The fittness does not improve for 50 iterations.\n",
      "Iteration 9/10. Restarting algo. Best solution: 12\n",
      "The fittness does not improve for 50 iterations.\n",
      "Iteration 10/10. Restarting algo. Best solution: 6\n"
     ]
    },
    {
     "name": "stderr",
     "output_type": "stream",
     "text": [
      "100%|██████████| 10/10 [00:17<00:00,  1.75s/it]"
     ]
    },
    {
     "name": "stdout",
     "output_type": "stream",
     "text": [
      "Solution: 106156422701078731735544097106645697842612605210378735727190645088254\n",
      "Fitness: 6\n",
      "111110000000000111111100000000111111111000000111001111001000110001110001011110110100011111110011111111111110011111111111111011101011111111111001000011011111000000010011111100000010111111100000110111111111001110001111111111110\n",
      "\n",
      "x x x x x                     \n",
      "x x x x x x x                 \n",
      "x x x x x x x x x             \n",
      "x x x     x x x x     x       \n",
      "x x       x x x       x   x x \n",
      "x x   x x   x       x x x x x \n",
      "x x     x x x x x x x x x x x \n",
      "x x     x x x x x x x x x x x \n",
      "x x x   x x x   x   x x x x x \n",
      "x x x x x x     x         x x \n",
      "  x x x x x               x   \n",
      "  x x x x x x             x   \n",
      "x x x x x x x           x x   \n",
      "x x x x x x x x x     x x x   \n",
      "    x x x x x x x x x x x x   \n"
     ]
    },
    {
     "name": "stderr",
     "output_type": "stream",
     "text": [
      "\n"
     ]
    },
    {
     "data": {
      "text/plain": "<Figure size 1600x900 with 1 Axes>",
      "image/png": "[encoded data removed]"
     },
     "metadata": {},
     "output_type": "display_data"
    }
   ],
   "source": [
    "# Test 3\n",
    "col_clues = [[12], [14], [4, 7], [3, 6], [5, 9],\n",
    "             [10, 4], [9, 3], [3, 2, 2], [1, 4, 2], [2, 1],\n",
    "             [4, 1], [6, 2], [4, 3], [11], [6]]\n",
    "row_clues = [[5], [7], [9], [3, 4, 1], [2, 3, 1, 2],\n",
    "             [2, 2, 1, 5], [2, 11], [2, 11], [3, 3, 1, 5], [6, 1, 2],\n",
    "             [5, 1], [6, 1], [7, 2], [9, 3], [12]]\n",
    "\n",
    "rows = len(row_clues)\n",
    "columns = len(col_clues)\n",
    "\n",
    "solver = NonogramSolverGA(rows=rows, columns=columns, row_clues=row_clues, col_clues=col_clues, **params_solver)\n",
    "\n",
    "solution, fitness_change = solver.evolve(**params_evolve)\n",
    "\n",
    "print(f\"Solution: {solution.cells}\\nFitness: {fitness_change[-1]}\")\n",
    "solution.show()\n",
    "plot_fitness(fitness_change)"
   ],
   "metadata": {
    "collapsed": false,
    "ExecuteTime": {
     "end_time": "2024-04-08T14:55:51.844360Z",
     "start_time": "2024-04-08T14:55:34.192439Z"
    }
   },
   "id": "8363d92bf94a40b3",
   "execution_count": 5
  },
  {
   "cell_type": "code",
   "outputs": [
    {
     "name": "stderr",
     "output_type": "stream",
     "text": [
      " 10%|█         | 1/10 [00:01<00:11,  1.29s/it]"
     ]
    },
    {
     "name": "stdout",
     "output_type": "stream",
     "text": [
      "The fittness does not improve for 50 iterations.\n",
      "Iteration 1/10. Restarting algo. Best solution: 6\n"
     ]
    },
    {
     "name": "stderr",
     "output_type": "stream",
     "text": [
      " 20%|██        | 2/10 [00:02<00:10,  1.31s/it]"
     ]
    },
    {
     "name": "stdout",
     "output_type": "stream",
     "text": [
      "The fittness does not improve for 50 iterations.\n",
      "Iteration 2/10. Restarting algo. Best solution: 6\n"
     ]
    },
    {
     "name": "stderr",
     "output_type": "stream",
     "text": [
      " 30%|███       | 3/10 [00:03<00:07,  1.11s/it]"
     ]
    },
    {
     "name": "stdout",
     "output_type": "stream",
     "text": [
      "The fittness does not improve for 50 iterations.\n",
      "Iteration 3/10. Restarting algo. Best solution: 6\n"
     ]
    },
    {
     "name": "stderr",
     "output_type": "stream",
     "text": [
      " 40%|████      | 4/10 [00:04<00:07,  1.25s/it]"
     ]
    },
    {
     "name": "stdout",
     "output_type": "stream",
     "text": [
      "The fittness does not improve for 50 iterations.\n",
      "Iteration 4/10. Restarting algo. Best solution: 8\n"
     ]
    },
    {
     "name": "stderr",
     "output_type": "stream",
     "text": [
      " 50%|█████     | 5/10 [00:06<00:06,  1.24s/it]"
     ]
    },
    {
     "name": "stdout",
     "output_type": "stream",
     "text": [
      "The fittness does not improve for 50 iterations.\n",
      "Iteration 5/10. Restarting algo. Best solution: 11\n"
     ]
    },
    {
     "name": "stderr",
     "output_type": "stream",
     "text": [
      " 60%|██████    | 6/10 [00:07<00:04,  1.15s/it]"
     ]
    },
    {
     "name": "stdout",
     "output_type": "stream",
     "text": [
      "The fittness does not improve for 50 iterations.\n",
      "Iteration 6/10. Restarting algo. Best solution: 10\n"
     ]
    },
    {
     "name": "stderr",
     "output_type": "stream",
     "text": [
      " 70%|███████   | 7/10 [00:08<00:03,  1.26s/it]"
     ]
    },
    {
     "name": "stdout",
     "output_type": "stream",
     "text": [
      "The fittness does not improve for 50 iterations.\n",
      "Iteration 7/10. Restarting algo. Best solution: 5\n"
     ]
    },
    {
     "name": "stderr",
     "output_type": "stream",
     "text": [
      " 80%|████████  | 8/10 [00:09<00:02,  1.12s/it]"
     ]
    },
    {
     "name": "stdout",
     "output_type": "stream",
     "text": [
      "The fittness does not improve for 50 iterations.\n",
      "Iteration 8/10. Restarting algo. Best solution: 13\n"
     ]
    },
    {
     "name": "stderr",
     "output_type": "stream",
     "text": [
      " 90%|█████████ | 9/10 [00:10<00:01,  1.15s/it]"
     ]
    },
    {
     "name": "stdout",
     "output_type": "stream",
     "text": [
      "The fittness does not improve for 50 iterations.\n",
      "Iteration 9/10. Restarting algo. Best solution: 12\n"
     ]
    },
    {
     "name": "stderr",
     "output_type": "stream",
     "text": [
      "100%|██████████| 10/10 [00:12<00:00,  1.21s/it]"
     ]
    },
    {
     "name": "stdout",
     "output_type": "stream",
     "text": [
      "The fittness does not improve for 50 iterations.\n",
      "Iteration 10/10. Restarting algo. Best solution: 7\n"
     ]
    },
    {
     "name": "stderr",
     "output_type": "stream",
     "text": [
      "100%|██████████| 10/10 [00:12<00:00,  1.20s/it]"
     ]
    },
    {
     "name": "stdout",
     "output_type": "stream",
     "text": [
      "Solution: 2258663426425162392254366318784\n",
      "Fitness: 5\n",
      "1100100000100010001010011000101111000010111110001011001111110000110010111110000010111000000011000000\n",
      "\n",
      "x x     x           \n",
      "x       x       x   \n",
      "x     x x       x   \n",
      "x x x x         x   \n",
      "x x x x x       x   \n",
      "x x     x x x x x x \n",
      "        x x     x   \n",
      "x x x x x           \n",
      "x   x x x           \n",
      "    x x             \n"
     ]
    },
    {
     "name": "stderr",
     "output_type": "stream",
     "text": [
      "\n"
     ]
    },
    {
     "data": {
      "text/plain": "<Figure size 1600x900 with 1 Axes>",
      "image/png": "[encoded data removed]"
     },
     "metadata": {},
     "output_type": "display_data"
    }
   ],
   "source": [
    "# Test 4\n",
    "col_clues = [[6, 2], [1, 3, 1], [4, 2], [3, 3], [6], [2], [1], [1], [7], [1]]\n",
    "row_clues = [[2, 1], [1, 1, 1], [1, 2, 1], [4, 1], [5, 1], [2, 6], [2, 1], [5], [1, 3], [2]]\n",
    "\n",
    "rows = len(row_clues)\n",
    "columns = len(col_clues)\n",
    "\n",
    "solver = NonogramSolverGA(rows=rows, columns=columns, row_clues=row_clues, col_clues=col_clues, **params_solver)\n",
    "\n",
    "solution, fitness_change = solver.evolve(**params_evolve)\n",
    "\n",
    "print(f\"Solution: {solution.cells}\\nFitness: {fitness_change[-1]}\")\n",
    "solution.show()\n",
    "plot_fitness(fitness_change)"
   ],
   "metadata": {
    "collapsed": false,
    "ExecuteTime": {
     "end_time": "2024-04-08T14:56:03.955512Z",
     "start_time": "2024-04-08T14:55:51.844051Z"
    }
   },
   "id": "4806aa47fa2f0c37",
   "execution_count": 6
  }
 ],
 "metadata": {
  "kernelspec": {
   "display_name": "Python 3",
   "language": "python",
   "name": "python3"
  },
  "language_info": {
   "codemirror_mode": {
    "name": "ipython",
    "version": 2
   },
   "file_extension": ".py",
   "mimetype": "text/x-python",
   "name": "python",
   "nbconvert_exporter": "python",
   "pygments_lexer": "ipython2",
   "version": "2.7.6"
  }
 },
 "nbformat": 4,
 "nbformat_minor": 5
}
